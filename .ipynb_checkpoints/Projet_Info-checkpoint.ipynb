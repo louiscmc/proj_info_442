{
 "cells": [
  {
   "cell_type": "markdown",
   "metadata": {
    "id": "q9utZpScrkHK"
   },
   "source": [
    "# Programming project : path related problems: Constrained shortest path and the k shortest paths"
   ]
  },
  {
   "cell_type": "markdown",
   "metadata": {
    "id": "8C7rAOENsJkT"
   },
   "source": [
    "1) "
   ]
  },
  {
   "cell_type": "markdown",
   "metadata": {
    "id": "8EKOm0iutLyj"
   },
   "source": [
    "For the sequential shortest paths problem, we chose to implement Dijktra's algorithm with heap queue. Indeed, as the costs of the arcs are all said to be positive, Dijkstra's shortest path algorithm can be applied and is more efficient than Bellman-Ford's algorithm $(O(|E|+|V|\\log(|V|))$ when implemented with heap queue against $O(|E||V|)$).)\n",
    "\n",
    "This algorithm doesn't only compute a path from $s$ to $t$ minimizing the sum of the costs along its arcs, it actually computes a shortest path tree (shortest path from $s$ to all of the nodes).\n",
    "\n",
    "Dijkstra's algorithm requires a priority queue structure to stock the pairs (distance,vertices) for which we haven't computed a shortest path yet. To do so we found it easier to use python's library heapq which already provides a heap priority queue."
   ]
  },
  {
   "cell_type": "markdown",
   "metadata": {
    "id": "E81FVnPAt0Mm"
   },
   "source": [
    "$\\textbf{Classic Dijkstra's algortithm's :}$\n",
    "\n",
    "The parameters are :\n",
    "\n",
    "\n",
    "*   s : the source vertex\n",
    "*   t : the target vertex\n",
    "*   G : the graph\n",
    "*   distances : table with minimal distance to source\n",
    "*   visited : set of vertices already visited\n",
    "*   queue : priority heap (heapq) containing pairs (distances\n",
    "(x),x)\n",
    "*   neighbors : function giving the pairs (weigth, vertex) for all leaving edges\n",
    "*   previous : keep trak of the previous vertex to reconstruct the path\n",
    "\n",
    "\n",
    "\n",
    "$\\textbf{Input :}$ a directed connected graph $G=(V,A,c)$ with non-negative arc costs $c:A\\mapsto \\mathbb{R}_+$, a source $s$ and a target $t$.\n",
    "\n",
    "$\\textbf{Output :}$ A shortest path $s\\rightarrow t$ as well as its cost.\n",
    "\n",
    "\n"
   ]
  },
  {
   "cell_type": "code",
   "execution_count": 26,
   "metadata": {
    "id": "tyGKENh1r60i"
   },
   "outputs": [],
   "source": [
    "# libraries needed\n",
    "from heapq import *\n",
    "import numpy as np"
   ]
  },
  {
   "cell_type": "code",
   "execution_count": 86,
   "metadata": {
    "id": "kLsqpil6x58_",
    "scrolled": true
   },
   "outputs": [],
   "source": [
    "# Import data from txt and make it into an adjacency matrix\n",
    "def makeGraph(data):\n",
    "    n=100\n",
    "    value = np.empty((), dtype=object)\n",
    "    value[()] = (np.inf, np.inf)\n",
    "    G = np.full((n, n), value, dtype=object)\n",
    "\n",
    "    lines = np.loadtxt(data)\n",
    "\n",
    "    for vert in lines:\n",
    "        G[int(vert[0])-1][int(vert[1])-1]=(int(vert[2]),int(vert[3]))\n",
    "    return G\n",
    "\n",
    "G= makeGraph(\"rcsp1.txt\")\n",
    "\n",
    "def dijkstra (s, t, G):\n",
    "    \n",
    "    # initialization : the only vertex in the priority queue is s with distance 0 \n",
    "    # (the shortest since no negative arcs)\n",
    "    visited = set()\n",
    "    distances = {s: 0}\n",
    "    previous = {}\n",
    "    queue = [(0, s)]\n",
    "    \n",
    "    # Boolean to tell if we eventually found a path s-t (just a assert because G should be connected)\n",
    "    targetFound = False\n",
    "\n",
    "    # We look at the vertex with shortest distance (at top of the heap) while we have'nt visited all the nodes yet\n",
    "    while queue != []:\n",
    "        \n",
    "        # x : next element in the queue, hence the one with distance[w]+cost(w,x) minimal for all w in visited\n",
    "        dx, x = heappop(queue)\n",
    "        \n",
    "        # if x already visited, we don't go through the computations twice !\n",
    "        if x in visited:\n",
    "            continue\n",
    "\n",
    "        visited.add(x)\n",
    "        \n",
    "        \n",
    "        for y in range(len(G[x])):\n",
    "            \n",
    "            # we look at each neighbor of x\n",
    "            if G[x][y][0]!=np.inf :\n",
    "                \n",
    "                # if already done :\n",
    "                if y in visited:\n",
    "                    continue\n",
    "\n",
    "                # else : compute the distance s-y passing by x and compare it with the minimum distance we already had\n",
    "                cost = G[x][y][0]\n",
    "                dy = dx + cost\n",
    "\n",
    "                if y not in distances or dy < distances[y]:\n",
    "                    distances[y] = dy\n",
    "\n",
    "                    # put it back in the queue with distance updated\n",
    "                    heappush(queue, (dy, y))\n",
    "\n",
    "                    # update the path\n",
    "                    previous[y] = x\n",
    "\n",
    "                    # check if we found the target\n",
    "                    if(y==t):\n",
    "                        targetFound = True\n",
    "\n",
    "    # then we reconstruct the path s-t (if we have one)               \n",
    "    path = [t]\n",
    "    x = t\n",
    "    if targetFound :\n",
    "        while x != s:\n",
    "            x = previous[x]\n",
    "            path.insert(0, x)\n",
    "        \n",
    "        # return the shortest path s-t and its cost\n",
    "        return distances[t], path\n",
    "    return f\"There were no path between {s} and {t} :(\""
   ]
  },
  {
   "cell_type": "code",
   "execution_count": 87,
   "metadata": {
    "colab": {
     "base_uri": "https://localhost:8080/"
    },
    "id": "bFYJCHln9Wlk",
    "outputId": "03e163c3-4797-4f03-9ec3-6830278d10cc"
   },
   "outputs": [
    {
     "name": "stdout",
     "output_type": "stream",
     "text": [
      "Shortest path between 99 and 10 :\n",
      "(54, [99, 87, 94, 73, 10])\n",
      "Shortest path between 10 and 99 :\n",
      "(46, [10, 61, 99])\n"
     ]
    }
   ],
   "source": [
    "# Tests for our small graph\n",
    "\n",
    "s=99\n",
    "t=10\n",
    "\n",
    "print(f\"Shortest path between {s} and {t} :\")\n",
    "print(dijkstra (s, t, G))\n",
    "\n",
    "print(f\"Shortest path between {t} and {s} :\")\n",
    "print(dijkstra (t, s, G))"
   ]
  },
  {
   "cell_type": "markdown",
   "metadata": {
    "id": "sLvlehJaFpps"
   },
   "source": [
    "$\\textbf{Parallel Dijkstra algorithm :}$\n",
    "\n",
    "The idea here is to split the graph in different subgraphes when looking at the neighbors.\n",
    "The code remains roughly the same except we add a parameter nbCores to determine the number of core working in parallel.\n",
    "\n",
    "To run the program on different cores we will use the python tool pool from library multiprocessing."
   ]
  },
  {
   "cell_type": "code",
   "execution_count": 6,
   "metadata": {
    "id": "En5NmHhEIbID"
   },
   "outputs": [],
   "source": [
    "from multiprocessing import pool"
   ]
  },
  {
   "cell_type": "code",
   "execution_count": null,
   "metadata": {
    "id": "XvxEnDoAFv78"
   },
   "outputs": [],
   "source": []
  },
  {
   "cell_type": "code",
   "execution_count": null,
   "metadata": {
    "colab": {
     "base_uri": "https://localhost:8080/",
     "height": 317
    },
    "id": "Cq0aacUjy5F4",
    "outputId": "0da72bc7-7ddb-44a5-c247-fdf8b7a2bcd0"
   },
   "outputs": [],
   "source": []
  },
  {
   "cell_type": "markdown",
   "metadata": {
    "id": "uRqm0Ce2zv1_"
   },
   "source": [
    "2) $\\textbf{Shortest Path with constraints :}$"
   ]
  },
  {
   "cell_type": "markdown",
   "metadata": {
    "id": "3vDnCHgOz3xW"
   },
   "source": [
    "Description : \n",
    "This problem is known to be NP-hard. We can formulate this problem as an interger linear program :\n",
    "\n",
    "For a givent $s\\rightarrow t$ path $p$, minimize $c(p)=\\sum_{(a,b)\\in p} c_{ab}$, with $d(p)=\\sum_{(a,b) \\in p} d_{ab} \\leqslant T$\n",
    "\n",
    "To solve this problem, we can implement a modified version of Dijkstra's algorithm, where only the paths verifying the constraint are examined. To do so, let's add a parameter $delays(v)$ to each vertex $v$ containing the delay of a $s-u$ path and minDelay(u) giving the delay of a minimum $u-t$ path (the later is easily computable by running Dijktra's algorithm from source $u$ to target $t$ with arc costs given by $d$ instead of $c$.\n",
    "\n",
    "Pseudocode :\n",
    "\n",
    "$\\textbf{Input :}$  a directed connected graph $G=(V,A,c)$ with non-negative arc costs $c$ and non-negative delays, a constraint $T$ a source $s$ and a target $t$.\n",
    "$\\textbf{Output :}$  The shortest path verifying the constraint, or an error message if there is none.\n",
    "\n",
    "$\\textbf{Initialisation :}$ \n",
    "* $distances(s)=0$\n",
    "* $delays(s)=0$\n",
    "* $visited={s}$\n",
    "* compute $minDelay$\n",
    "\n",
    "$\\textbf{Step of the algorithm :}$ \n",
    "* Pick vertex the vertex $u$ not in $visited$ with minimal $distance$ value while there still are such\n",
    "* add $u$ to $visited$\n",
    "* for all neighbors $v$ of $u$, if $delays(u)+d_{uv}+minDelay(v)\\leqslant T$ and $distance(v)>distance(u)+c_{uv}$ :\n",
    "* $distance(v)=distance(u)+c_{uv}$, $delays(v)=delays(u)+d_{uv}$ and $previous(v)=u$"
   ]
  },
  {
   "cell_type": "markdown",
   "metadata": {
    "id": "iQrd87xS7taw"
   },
   "source": [
    "Implementation :"
   ]
  },
  {
   "cell_type": "code",
   "execution_count": 88,
   "metadata": {
    "id": "bij6KeODz2s5"
   },
   "outputs": [],
   "source": [
    "# Dijkstra's algorithm backwards to have the minDelay table described above :\n",
    "def minDelay (t, G):  \n",
    "    \n",
    "    # We reverse the matrix (since the graph is undirect)\n",
    "    Gbis = G.copy().transpose()\n",
    "    visited = set()\n",
    "    minDelay = {t: 0}\n",
    "    previous = {}\n",
    "    queue = [(0, t)]\n",
    "    \n",
    "    while queue != []:\n",
    "\n",
    "        dx, x = heappop(queue)\n",
    "\n",
    "        if x in visited:\n",
    "            continue\n",
    "            \n",
    "        visited.add(x)\n",
    "        \n",
    "        for y in range(len(Gbis[x])):\n",
    "            \n",
    "            # we look at each neighbor of x\n",
    "            if Gbis[x][y][1]!=np.inf :\n",
    "            \n",
    "                if y in visited:\n",
    "                    continue\n",
    "                    \n",
    "                cost = Gbis[x][y][0]\n",
    "                delay = Gbis[x][y][1]\n",
    "                dy = dx + delay\n",
    "\n",
    "                if y not in minDelay or dy < minDelay[y]:\n",
    "                    minDelay[y] = dy\n",
    "                    heappush(queue, (dy, y))\n",
    "\n",
    "    # Contrary to the previous Dijkstra's algorithm, here we return the table minDelay (equivalent to distances)\n",
    "    # Giving the path u-t to the target with minimal delay\n",
    "    return minDelay\n",
    "\n",
    "\n",
    "\n",
    "def constraintDijkstra(s,t,T,G):\n",
    "    visited=set()\n",
    "    distances={s:0}\n",
    "    delays={s:0}\n",
    "    previous={}\n",
    "    queue = [(0,0,s)]\n",
    "    min_delay=minDelay(t,G)\n",
    "    \n",
    "    # Boolean to tell if we eventually found a s-t path satisfying the constraint\n",
    "    targetFound = False\n",
    "    \n",
    "    while queue != [] :\n",
    "        \n",
    "        # vertex with minimum distance to s still in the queue\n",
    "        dist_x, del_x, x = heappop(queue)\n",
    "        \n",
    "        # in cas we already done the computation for x :\n",
    "        if x in visited :\n",
    "            continue\n",
    "        \n",
    "        visited.add(x)\n",
    "        for y in range(len(G[x])):\n",
    "            \n",
    "            # we look at each neighbor of x\n",
    "            if G[x][y][0] != np.inf and G[x][y][1] != np.inf :\n",
    "            \n",
    "                # we don't do things twice\n",
    "                if y in visited :\n",
    "                    continue\n",
    "\n",
    "                cost = G[x][y][0]\n",
    "                delay = G[x][y][1]\n",
    "                dist_y = dist_x + cost\n",
    "                del_y = del_x + delay\n",
    "\n",
    "                # we check if the constraint is verified before going in the direction y :\n",
    "                if del_y + min_delay[y] <= T and (y not in distances or dist_y < distances[y]) :\n",
    "                    \n",
    "                    # update distances\n",
    "                    distances[y]=dist_y\n",
    "\n",
    "                    # update delay\n",
    "                    delays[y]=del_y\n",
    "\n",
    "                    # update path\n",
    "                    previous[y]=x\n",
    "\n",
    "                    # put it back in the queue with distance updated\n",
    "                    heappush(queue, (dist_y, del_y, y))\n",
    "\n",
    "                    if(y==t):\n",
    "                        targetFound = True\n",
    "\n",
    "    # then we reconstruct the path s-t (if we have one)               \n",
    "    path = [t]\n",
    "    x = t\n",
    "    if targetFound :\n",
    "        while x != s:\n",
    "            x = previous[x]\n",
    "            path.insert(0, x)\n",
    "        \n",
    "        # return the shortest path s-t and its cost\n",
    "        return distances[t],delays[t], path\n",
    "    return f\"There were no path between {s} and {t} satisfying the constraint :(\""
   ]
  },
  {
   "cell_type": "code",
   "execution_count": 85,
   "metadata": {},
   "outputs": [
    {
     "name": "stdout",
     "output_type": "stream",
     "text": [
      "(147, 29, [0, 71, 52, 1])\n"
     ]
    }
   ],
   "source": [
    "print(constraintDijkstra(0,1,33,G))"
   ]
  },
  {
   "cell_type": "markdown",
   "metadata": {
    "id": "Ab-kWpLZ7c14"
   },
   "source": [
    "3) $K$ $\\textbf{- Shortest Paths}$"
   ]
  },
  {
   "cell_type": "markdown",
   "metadata": {
    "id": "Nfg8MiAX7y5k"
   },
   "source": [
    "Description : We want the $K$-shortest paths connecting the source $s$ to the target $t$. The easiest is to keep these paths in an array $bestPaths$ where $bestPaths[i]$ will give the $k^{th}$ shortest path $s - t$.\n",
    "\n",
    "Since the weights are still said to be positive, we can use Dijkstra's algorithm to compute $bestPaths[0]$\n",
    "\n",
    "Then, $bestPaths[0:k-1]$ already there, our idea is to construct $bestPaths[k]$ form a \"deviation\" of $bestPaths[i-1]$, but we have to ensure some things :\n",
    "\n",
    "* When we compute our deviation, we should not look at paths already taken for a previous bestPath\n",
    "* We must look at all the other paths and find the best one (that is to say the one with minimal cost)\n",
    "\n",
    "\n",
    "To do so, we will proceed as so :\n",
    "\n",
    "Parameters :\n",
    "* s, t, G : source, target, directed connected graph\n",
    "* bestPaths : list of pairs (cost, k-th shorthest path) for k from 1 to K\n",
    "* tmpPaths : stock the current acceptable deviation of $bestPaths[k-1]$ with minimal cost\n",
    "\n",
    "$\\textbf{Input :}$ a directed connected graph $G=(V,A,c)$ with non-negative arc costs $c:A\\mapsto \\mathbb{R}_+$, a source $s$ and a target $t$.\n",
    "\n",
    "$\\textbf{Output :}$ A shortest path $s\\rightarrow t$ as well as its cost."
   ]
  },
  {
   "cell_type": "markdown",
   "metadata": {
    "id": "kaXzJvLp72NB"
   },
   "source": [
    "Implementation :"
   ]
  },
  {
   "cell_type": "code",
   "execution_count": 89,
   "metadata": {
    "id": "0Vma4UQ17xOe"
   },
   "outputs": [],
   "source": [
    "def cost_path(G,P): #P is a list of points which make the path, G is a matrix of adjacence\n",
    "    \n",
    "    n = len(P);\n",
    "    tmp_cost=0\n",
    "    \n",
    "    for i in range(n-1):\n",
    "        \n",
    "        # Cost is given by the first parameter in the adjacency matrix\n",
    "        tmp_cost+=G[P[i]][P[i+1]][0]\n",
    "     \n",
    "    return tmp_cost\n",
    "\n",
    "\n",
    "def k_paths(s,t,G,K) :\n",
    "    \n",
    "    bestPaths=[]\n",
    "    bestPaths.append(dijkstra (s, t, G))\n",
    "    \n",
    "    for k in range(1,K) :\n",
    "        \n",
    "        tmpPath=[np.inf,[]]\n",
    "\n",
    "        for i in range(len(bestPaths[k-1][1])-1) :\n",
    "            \n",
    "            ## choose the pivot node\n",
    "            pivot = bestPaths[k-1][1][i]\n",
    "    \n",
    "            # We look at the beginning of the path (until i)\n",
    "            pivotPath = (cost_path(G,bestPaths[k-1][1][:i]),bestPaths[k-1][1][:i])\n",
    "            \n",
    "            copyGraph = G.copy()\n",
    "            \n",
    "            for j in range(k):\n",
    "                if bestPaths[j][1][:i] == pivotPath[1] :\n",
    "                    \n",
    "                    dest=bestPaths[j][1][i+1]\n",
    "                    copyGraph[pivot][dest]=(np.inf,np.inf)\n",
    "                    \n",
    "            pivotEnd = dijkstra (pivot, t, copyGraph)\n",
    "            \n",
    "            pivotFinal = (pivotPath[0]+pivotEnd[0],pivotPath[1]+pivotEnd[1])\n",
    "            \n",
    "            if pivotFinal[0]<tmpPath[0]:\n",
    "                tmpPath=pivotFinal\n",
    "        bestPaths.append(tmpPath)\n",
    "    return bestPaths    "
   ]
  },
  {
   "cell_type": "markdown",
   "metadata": {},
   "source": [
    "Proof of termination, correctness, .."
   ]
  },
  {
   "cell_type": "code",
   "execution_count": 83,
   "metadata": {},
   "outputs": [
    {
     "name": "stdout",
     "output_type": "stream",
     "text": [
      "[(54, [99, 87, 94, 73, 10]), (50, [99, 87, 21, 10]), (57, [99, 98, 77, 10]), (58, [99, 98, 85, 73, 10]), (73, [99, 98, 19, 94, 73, 10])]\n"
     ]
    }
   ],
   "source": [
    "# Tests\n",
    "print(k_paths(99,10,G,5))"
   ]
  },
  {
   "cell_type": "markdown",
   "metadata": {},
   "source": [
    "4) $\\textbf{ISOMAP}$"
   ]
  },
  {
   "cell_type": "markdown",
   "metadata": {},
   "source": [
    "As described on the given article as well as on wikipedia, the ISOMAP algorithm works as follow :\n",
    "\n",
    "* Determine the neighbors of each vertex, either the K nearest or the ones that are $\\varepsilon -$close\n",
    "* Construct a neighborhood graph where each vertex is connected to their neighbors only, with arc cost equal to the distance in the initial graph\n",
    "* Compute shortest paths in the new graph with Dijkstra's algorithm\n",
    "* Construct the lower dimensional embedding given by the eigendecomposition of $T(D)$, where $D$ is the distance matrix and $T(D)=-HSH/2$, where $S$ is the matrix of squared distances, and $H$ isthe “centering matrix”, $H_{ij}=\\delta_{ij}-1/n$\n",
    "\n",
    "According to the article, the last step is : \n",
    "\n",
    "Compute $l_p$ be the $p-$th largest eigenvalue  ofthe matrix $T(D)$, and $v_p(i)$\n",
    "be the $i-$th component of the $p-$th eigenvector. Then set the\n",
    "$p-$th component of the lower dimensional coordinate\n",
    "vector $y_i$ equal to $y_i(p)=\\sqrt{l_p}v_p(i)$ \n",
    "\n",
    "To compute the eigendecomposition of this matrix, we will use the python library np.linalg"
   ]
  },
  {
   "cell_type": "code",
   "execution_count": null,
   "metadata": {},
   "outputs": [],
   "source": [
    "# Quicksort algorithm :\n",
    "\n",
    "# eigVals, eigVecs : Arrays to be sorted\n",
    "# low : Starting index\n",
    "# high : Ending index \n",
    "\n",
    "def partition(eigVals, eigVecs, low, high):\n",
    "    i = (low-1)         # index of smaller element\n",
    "    pivot = eigVals[high]     # pivot\n",
    "  \n",
    "    for j in range(low, high):\n",
    "  \n",
    "       # If current element is smaller than or equal to pivot\n",
    "        if eigVals[j] <= pivot:\n",
    "  \n",
    "            # increment index of smaller element\n",
    "            i = i+1\n",
    "            eigVals[i], eigVals[j] = eigVals[j], eigVals[i]\n",
    "            eigVecs[i], eigVecs[j] = eigVecs[j], eigVecs[i]\n",
    "  \n",
    "    eigVals[i+1], eigVals[high] = eigVals[high], eigVals[i+1]\n",
    "    eigVecs[i+1], eigVecs[high] = eigVecs[high], eigVecs[i+1]\n",
    "    return (i+1)\n",
    "\n",
    "# recursive function\n",
    "def quickSort(eigVals, eigVecs, low, high):\n",
    "    if len(eigVals) == 1:\n",
    "        return eigVals\n",
    "    if low < high:\n",
    "  \n",
    "        # pi is partitioning index\n",
    "        pi = partition(eigVals, eigVecs, low, high)\n",
    "\n",
    "        quickSort(eigVals, eigVecs, low, pi-1)\n",
    "        quickSort(eigVals, eigVecs, pi+1, high)\n",
    "\n",
    "# sorting algorithm :\n",
    "def sort(eigVals, eigVecs):\n",
    "    return quicksort(eigVals, eigVecs, 0, len(eigVals))\n",
    "        \n",
    "# K-nn ISOMAP algorithm :\n",
    "def neighborGraph_K(G,K):\n",
    "    \n",
    "def distanceMatrix_K (G,K):\n",
    "    nnGraph=neighborGraph_K(G,K)\n",
    "    n=len(G)\n",
    "    matrix=np.zeros(n,n)\n",
    "    for i in range(n):\n",
    "        for j in range(n):\n",
    "            matrix[i][j]=dijkstra(i,j,nnGraph)[0]\n",
    "    return matrix\n",
    "\n",
    "def embedding_K(G,K):\n",
    "    n=len(G)\n",
    "    S=np.zeros(n,n)\n",
    "    H=np.zeros(n,n)\n",
    "    Y=np.zeros(n,n)\n",
    "    M=distanceMatrix_K (G,K)\n",
    "    for i in range(n):\n",
    "        for j in range(n):\n",
    "            S[i][j]=M[i][j]**2\n",
    "            H[i][j]=-1/n\n",
    "            if(i==j):\n",
    "                H[i][j]+=1         \n",
    "    eigVals, eigVecs = np.linalg.eig(-H.dot(S.dot(H)))\n",
    "    \n",
    "    # function to sort the eigenvalues & eigenvectors, to be written\n",
    "    sort(eigVals, eigVecs)\n",
    "    for i in range(n):\n",
    "        for j in range(n):\n",
    "            Y[i][j]=sqrt(eigvals[j])*eigVecs[j][i]\n",
    "    return Y\n",
    "    \n",
    "\n",
    "# eps-close ISOMAP algorithm:\n",
    "def neighborGraph_eps(G,eps):\n",
    "\n",
    "def distanceMatrix_eps (G,eps):\n",
    "    nnGraph=neighborGraph_eps(G,eps)\n",
    "    n=len(nnGraph)\n",
    "    matrix=np.zeros(n,n)\n",
    "    for i in range(n):\n",
    "        for j in range(n):\n",
    "            matrix[i][j]=dijkstra(i,j,nnGraph)\n",
    "    return matrix\n",
    "\n",
    "def embedding_eps(G,eps):\n",
    "        n=len(G)\n",
    "    S=np.zeros(n,n)\n",
    "    H=np.zeros(n,n)\n",
    "    Y=np.zeros(n,n)\n",
    "    M=distanceMatrix_eps (G,eps)\n",
    "    for i in range(n):\n",
    "        for j in range(n):\n",
    "            S[i][j]=M[i][j]**2\n",
    "            H[i][j]=-1/n\n",
    "            if(i==j):\n",
    "                H[i][j]+=1         \n",
    "    eigVals, eigVecs = np.linalg.eig(-H.dot(S.dot(H)))\n",
    "    \n",
    "    # function to sort the eigenvalues & eigenvectors, to be written\n",
    "    sort(eigVals, eigVecs)\n",
    "    for i in range(n):\n",
    "        for j in range(n):\n",
    "            Y[i][j]=sqrt(eigvals[j])*eigVecs[j][i]\n",
    "    return Y\n",
    "    "
   ]
  }
 ],
 "metadata": {
  "colab": {
   "collapsed_sections": [],
   "name": "Projet_Info.ipynb",
   "provenance": []
  },
  "kernelspec": {
   "display_name": "Python 3",
   "language": "python",
   "name": "python3"
  },
  "language_info": {
   "codemirror_mode": {
    "name": "ipython",
    "version": 3
   },
   "file_extension": ".py",
   "mimetype": "text/x-python",
   "name": "python",
   "nbconvert_exporter": "python",
   "pygments_lexer": "ipython3",
   "version": "3.8.5"
  },
  "latex_envs": {
   "LaTeX_envs_menu_present": true,
   "autoclose": false,
   "autocomplete": false,
   "bibliofile": "biblio.bib",
   "cite_by": "apalike",
   "current_citInitial": 1,
   "eqLabelWithNumbers": true,
   "eqNumInitial": 1,
   "hotkeys": {
    "equation": "Ctrl-E",
    "itemize": "Ctrl-I"
   },
   "labels_anchors": false,
   "latex_user_defs": false,
   "report_style_numbering": false,
   "user_envs_cfg": false
  }
 },
 "nbformat": 4,
 "nbformat_minor": 1
}
