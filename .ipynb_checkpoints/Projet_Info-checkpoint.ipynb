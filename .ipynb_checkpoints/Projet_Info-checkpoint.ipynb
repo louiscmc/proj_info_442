{
 "cells": [
  {
   "cell_type": "markdown",
   "metadata": {
    "id": "q9utZpScrkHK"
   },
   "source": [
    "# Programming project : path related problems: Constrained shortest path and the k shortest paths"
   ]
  },
  {
   "cell_type": "markdown",
   "metadata": {
    "id": "8C7rAOENsJkT"
   },
   "source": [
    "1) "
   ]
  },
  {
   "cell_type": "markdown",
   "metadata": {
    "id": "8EKOm0iutLyj"
   },
   "source": [
    "For the sequential shortest paths problem, we chose to implement Dijktra's algorithm with heap queue. Indeed, as the weigth of the edges are all said to be positive, Dijkstra's shortest path algorithm can be applied and is more efficient than Bellman-Ford's algorithm ($O(|E|+|V|\\log(|V|))$ against $O(|E||V|)$). \\\\\n",
    "\n",
    "This algorithm doesn't only compute a path from $s$ to $t$ minimizing the sum of the weights along its edges, it actually computes a shortest path tree (shortest path from $s$ to all of the nodes).\n",
    "\n",
    "Dijkstra's algorithm requires a priority queue structure to stock the vertices for which we haven't computed a shortest path yet. To do so we found it easier to use python's library heapq which provides a heap priority queue."
   ]
  },
  {
   "cell_type": "markdown",
   "metadata": {
    "id": "E81FVnPAt0Mm"
   },
   "source": [
    "Classic Dijkstra's algortithm :"
   ]
  },
  {
   "cell_type": "code",
   "execution_count": null,
   "metadata": {
    "id": "PqmyWXMTnhxg"
   },
   "outputs": [],
   "source": []
  },
  {
   "cell_type": "code",
   "execution_count": null,
   "metadata": {
    "id": "tyGKENh1r60i"
   },
   "outputs": [],
   "source": [
    "# libraries needed\n",
    "from heapq import *\n",
    "import numpy as np"
   ]
  },
  {
   "cell_type": "markdown",
   "metadata": {
    "id": "3rRNwmSn9bTy"
   },
   "source": [
    "The parameters are :\n",
    "\n",
    "\n",
    "*   s : the source vertex\n",
    "*   t : the target vertex\n",
    "*   G : the graph\n",
    "*   distances : table with minimal distance to source\n",
    "*   visited : set of vertices already visited\n",
    "*   queue : priority heap (heapq) containing pairs (distances\n",
    "(x),x)\n",
    "*   neighbors : function giving the pairs (weigth, vertex) for all leaving edges\n",
    "*   previous : keep trak of the previous vertex to reconstruct the path\n",
    "\n"
   ]
  },
  {
   "cell_type": "code",
   "execution_count": null,
   "metadata": {
    "id": "kLsqpil6x58_"
   },
   "outputs": [],
   "source": [
    "def dijkstra (s, t, G):\n",
    "    visited = set()\n",
    "    distances = {s: 0}\n",
    "    previous = {}\n",
    "    queue = [(0, s)]\n",
    "    targetFound = False\n",
    "\n",
    "    while queue != []:\n",
    "\n",
    "        dx, x = heappop(queue)\n",
    "        if x in visited:\n",
    "            continue\n",
    "\n",
    "        visited.add(x)\n",
    "\n",
    "        for weigth, y in neighbors(G,x):\n",
    "            if y in visited:\n",
    "                continue\n",
    "            dy = dx + weigth\n",
    "            if y not in distances or dy < distances[y]:\n",
    "                distances[y] = dy\n",
    "                heappush(queue, (dy, y))\n",
    "                previous[y] = x\n",
    "                if(y==t):\n",
    "                  targetFound = True\n",
    "\n",
    "    path = [t]\n",
    "    x = t\n",
    "    if targetFound :\n",
    "      while x != s:\n",
    "          x = previous[x]\n",
    "          path.insert(0, x)\n",
    "\n",
    "      return distances[t], path\n",
    "    return f\"There were no path between {s} and {t} :(\"\n",
    "\n",
    "\n",
    "# Run for a graph given by a dictionnary (same thing as an adjacency matrix but take less space)\n",
    "G = {\n",
    "    \"A\": [ (27, \"D\"), (2, \"G\") ],\n",
    "    \"B\": [ (1, \"A\") ],\n",
    "    \"C\": [ (1, \"B\"), (2, \"F\"), (3, \"G\") ],\n",
    "    \"D\": [ (4, \"G\"), (7, \"H\") ],\n",
    "    \"E\": [ (5, \"A\"), (3, \"B\"), (2, \"C\") ],\n",
    "    \"F\": [ (8, \"H\"), (1, \"D\") ],\n",
    "    \"G\": [ (4, \"F\") ],\n",
    "    \"H\": []\n",
    "}\n",
    "\n",
    "def neighbors (G,s):\n",
    "    return G[s]"
   ]
  },
  {
   "cell_type": "code",
   "execution_count": null,
   "metadata": {
    "colab": {
     "base_uri": "https://localhost:8080/"
    },
    "id": "bFYJCHln9Wlk",
    "outputId": "03e163c3-4797-4f03-9ec3-6830278d10cc"
   },
   "outputs": [
    {
     "name": "stdout",
     "output_type": "stream",
     "text": [
      "(14, ['A', 'G', 'F', 'H'])\n"
     ]
    }
   ],
   "source": [
    "s=\"A\"\n",
    "t=\"H\"\n",
    "\n",
    "print(dijkstra (s, t, G))"
   ]
  },
  {
   "cell_type": "markdown",
   "metadata": {
    "id": "sLvlehJaFpps"
   },
   "source": [
    "Parallel Dijkstra algorithm :\n",
    "\n",
    "The idea here is to split the graph in different subgraphes when looking at the neighbors.\n",
    "The code remains roughly the same except we add a parameter nbCores to determine the number of core working in parallel.\n",
    "\n",
    "To run the program on different cores we will use the python tool pool from library multiprocessing."
   ]
  },
  {
   "cell_type": "code",
   "execution_count": null,
   "metadata": {
    "id": "En5NmHhEIbID"
   },
   "outputs": [],
   "source": [
    "from multiprocessing import pool"
   ]
  },
  {
   "cell_type": "code",
   "execution_count": null,
   "metadata": {
    "id": "XvxEnDoAFv78"
   },
   "outputs": [],
   "source": [
    "# The function that will run on the different cores at the same time :\n",
    "# core is the number of the current core\n",
    "# num is the number of neighbors\n",
    "# start is the first neighbor for the core core \n",
    "def parallel_neighbors(t,start, num ,neighbors,distances,p,queue,core):\n",
    "  for i in range(num):\n",
    "    weigth, y = neighbors(start+i)\n",
    "    if y in visited:\n",
    "      continue\n",
    "    dy = dx + weigth\n",
    "    if y not in distances or dy < distances[y]:\n",
    "      distances[y] = dy\n",
    "      heappush(queue, (dy, y))\n",
    "      previous[y] = x\n",
    "      if(y==t):\n",
    "        targetFound = True\n",
    "  start = start + num\n",
    "\n",
    "def parallelDijkstra (s, t, neighbors, nbCores):\n",
    "    visited = set()\n",
    "    distances = {s: 0}\n",
    "    previous = {}\n",
    "    queue = [(0, s)]\n",
    "    targetFound = False\n",
    "\n",
    "    while queue != []:\n",
    "\n",
    "        dx, x = heappop(queue)\n",
    "        if x in visited:\n",
    "            continue\n",
    "\n",
    "        visited.add(x)\n",
    "\n",
    "        n=len(neighbors(x))\n",
    "        k = n//(nbCores)\n",
    "        l = n%(nbCores)\n",
    "        start = 0\n",
    "        pool=pool.Pool()\n",
    "        result=[]\n",
    "        answer=[]\n",
    "        for core in range (nbCores) :\n",
    "            if (core == nbCores) :\n",
    "                result.append(pool.apply_async(parallel_neighbors, [t, start, l,neighbors,distances,p,queue,core]))\n",
    "            else:\n",
    "                result.append(pool.apply_async(parallel_neighbors, [t, start, k,neighbors,distances,p,queue,core]))\n",
    "        pool.join()\n",
    "        for core in range (nbCores) :\n",
    "          answer[core] = result[core].get(timeout=10)\n",
    "    path = [t]\n",
    "    x = t\n",
    "    if targetFound :\n",
    "      while x != s:\n",
    "          x = previous[x]\n",
    "          path.insert(0, x)\n",
    "\n",
    "      return distances[t], path\n",
    "    return f\"There were no path between {s} and {t} :(\"\n",
    "\n",
    "\n",
    "# Run for a graph given by a dictionnary (same thing as an adjacency matrix but take less space)\n",
    "graph = {\n",
    "    \"A\": [ (27, \"D\"), (2, \"G\") ],\n",
    "    \"B\": [ (1, \"A\") ],\n",
    "    \"C\": [ (1, \"B\"), (2, \"F\"), (3, \"G\") ],\n",
    "    \"D\": [ (4, \"G\"), (7, \"H\") ],\n",
    "    \"E\": [ (5, \"A\"), (3, \"B\"), (2, \"C\") ],\n",
    "    \"F\": [ (8, \"H\"), (1, \"D\") ],\n",
    "    \"G\": [ (4, \"F\") ],\n",
    "    \"H\": []\n",
    "}\n",
    "\n",
    "def neighbors (s):\n",
    "    return graph[s]"
   ]
  },
  {
   "cell_type": "code",
   "execution_count": null,
   "metadata": {
    "colab": {
     "base_uri": "https://localhost:8080/",
     "height": 317
    },
    "id": "Cq0aacUjy5F4",
    "outputId": "0da72bc7-7ddb-44a5-c247-fdf8b7a2bcd0"
   },
   "outputs": [
    {
     "ename": "NameError",
     "evalue": "ignored",
     "output_type": "error",
     "traceback": [
      "\u001b[0;31m---------------------------------------------------------------------------\u001b[0m",
      "\u001b[0;31mNameError\u001b[0m                                 Traceback (most recent call last)",
      "\u001b[0;32m<ipython-input-26-82e2b0077a42>\u001b[0m in \u001b[0;36m<module>\u001b[0;34m()\u001b[0m\n\u001b[1;32m      2\u001b[0m \u001b[0mt\u001b[0m\u001b[0;34m=\u001b[0m\u001b[0;34m\"H\"\u001b[0m\u001b[0;34m\u001b[0m\u001b[0;34m\u001b[0m\u001b[0m\n\u001b[1;32m      3\u001b[0m \u001b[0;34m\u001b[0m\u001b[0m\n\u001b[0;32m----> 4\u001b[0;31m \u001b[0mprint\u001b[0m\u001b[0;34m(\u001b[0m\u001b[0mparallelDijkstra\u001b[0m \u001b[0;34m(\u001b[0m\u001b[0ms\u001b[0m\u001b[0;34m,\u001b[0m \u001b[0mt\u001b[0m\u001b[0;34m,\u001b[0m \u001b[0mneighbors\u001b[0m\u001b[0;34m,\u001b[0m\u001b[0;36m2\u001b[0m\u001b[0;34m)\u001b[0m\u001b[0;34m)\u001b[0m\u001b[0;34m\u001b[0m\u001b[0;34m\u001b[0m\u001b[0m\n\u001b[0m",
      "\u001b[0;32m<ipython-input-25-d3d00dd33d49>\u001b[0m in \u001b[0;36mparallelDijkstra\u001b[0;34m(s, t, neighbors, nbCores)\u001b[0m\n\u001b[1;32m     36\u001b[0m         \u001b[0ml\u001b[0m \u001b[0;34m=\u001b[0m \u001b[0mn\u001b[0m\u001b[0;34m%\u001b[0m\u001b[0;34m(\u001b[0m\u001b[0mnbCores\u001b[0m\u001b[0;34m)\u001b[0m\u001b[0;34m\u001b[0m\u001b[0;34m\u001b[0m\u001b[0m\n\u001b[1;32m     37\u001b[0m         \u001b[0mstart\u001b[0m \u001b[0;34m=\u001b[0m \u001b[0;36m0\u001b[0m\u001b[0;34m\u001b[0m\u001b[0;34m\u001b[0m\u001b[0m\n\u001b[0;32m---> 38\u001b[0;31m         \u001b[0mpool\u001b[0m\u001b[0;34m=\u001b[0m\u001b[0mPool\u001b[0m\u001b[0;34m(\u001b[0m\u001b[0;34m)\u001b[0m\u001b[0;34m\u001b[0m\u001b[0;34m\u001b[0m\u001b[0m\n\u001b[0m\u001b[1;32m     39\u001b[0m         \u001b[0mresult\u001b[0m\u001b[0;34m=\u001b[0m\u001b[0;34m[\u001b[0m\u001b[0;34m]\u001b[0m\u001b[0;34m\u001b[0m\u001b[0;34m\u001b[0m\u001b[0m\n\u001b[1;32m     40\u001b[0m         \u001b[0manswer\u001b[0m\u001b[0;34m=\u001b[0m\u001b[0;34m[\u001b[0m\u001b[0;34m]\u001b[0m\u001b[0;34m\u001b[0m\u001b[0;34m\u001b[0m\u001b[0m\n",
      "\u001b[0;31mNameError\u001b[0m: name 'Pool' is not defined"
     ]
    }
   ],
   "source": [
    "s=\"A\"\n",
    "t=\"H\"\n",
    "\n",
    "print(parallelDijkstra (s, t, neighbors,2))"
   ]
  },
  {
   "cell_type": "markdown",
   "metadata": {
    "id": "uRqm0Ce2zv1_"
   },
   "source": [
    "2) Shortest Path with constraints :"
   ]
  },
  {
   "cell_type": "markdown",
   "metadata": {
    "id": "3vDnCHgOz3xW"
   },
   "source": [
    "Description : \n",
    "This problem is known to be NP-hard"
   ]
  },
  {
   "cell_type": "markdown",
   "metadata": {
    "id": "iQrd87xS7taw"
   },
   "source": [
    "Implementation : //"
   ]
  },
  {
   "cell_type": "code",
   "execution_count": null,
   "metadata": {
    "id": "bij6KeODz2s5"
   },
   "outputs": [],
   "source": []
  },
  {
   "cell_type": "markdown",
   "metadata": {
    "id": "Ab-kWpLZ7c14"
   },
   "source": [
    "3) $k$ - Shortest Paths"
   ]
  },
  {
   "cell_type": "markdown",
   "metadata": {
    "id": "Nfg8MiAX7y5k"
   },
   "source": [
    "Description : We want the $k$-shortest paths connecting the source $s$ to the target $t$. The easiest is to keep these paths in an array $P$ where $P[i]$ will give the $i^{th}$ shortest path $s - t$. \\\\\n",
    "Since the weights are still said to be positive, we can use Dijkstra's algorithm to compute $P[0]$"
   ]
  },
  {
   "cell_type": "markdown",
   "metadata": {
    "id": "kaXzJvLp72NB"
   },
   "source": [
    "Implementation :"
   ]
  },
  {
   "cell_type": "code",
   "execution_count": null,
   "metadata": {
    "id": "0Vma4UQ17xOe"
   },
   "outputs": [],
   "source": []
  }
 ],
 "metadata": {
  "colab": {
   "collapsed_sections": [],
   "name": "Projet_Info.ipynb",
   "provenance": []
  },
  "kernelspec": {
   "display_name": "Python 3",
   "language": "python",
   "name": "python3"
  },
  "language_info": {
   "codemirror_mode": {
    "name": "ipython",
    "version": 3
   },
   "file_extension": ".py",
   "mimetype": "text/x-python",
   "name": "python",
   "nbconvert_exporter": "python",
   "pygments_lexer": "ipython3",
   "version": "3.7.6"
  },
  "latex_envs": {
   "LaTeX_envs_menu_present": true,
   "autoclose": false,
   "autocomplete": false,
   "bibliofile": "biblio.bib",
   "cite_by": "apalike",
   "current_citInitial": 1,
   "eqLabelWithNumbers": true,
   "eqNumInitial": 1,
   "hotkeys": {
    "equation": "Ctrl-E",
    "itemize": "Ctrl-I"
   },
   "labels_anchors": false,
   "latex_user_defs": false,
   "report_style_numbering": false,
   "user_envs_cfg": false
  }
 },
 "nbformat": 4,
 "nbformat_minor": 1
}
