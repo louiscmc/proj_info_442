{
 "cells": [
  {
   "cell_type": "markdown",
   "metadata": {
    "id": "q9utZpScrkHK"
   },
   "source": [
    "# Programming project : path related problems: Constrained shortest path and the k shortest paths"
   ]
  },
  {
   "cell_type": "markdown",
   "metadata": {
    "id": "8C7rAOENsJkT"
   },
   "source": [
    "1) "
   ]
  },
  {
   "cell_type": "markdown",
   "metadata": {
    "id": "8EKOm0iutLyj"
   },
   "source": [
    "For the sequential shortest paths problem, we chose to implement Dijktra's algorithm with heap queue. Indeed, as the costs of the arcs are all said to be positive, Dijkstra's shortest path algorithm can be applied and is more efficient than Bellman-Ford's algorithm $(O(|E|+|V|\\log(|V|))$ when implemented with heap queue against $O(|E||V|)$).)\n",
    "\n",
    "This algorithm doesn't only compute a path from $s$ to $t$ minimizing the sum of the costs along its arcs, it actually computes a shortest path tree (shortest path from $s$ to all of the nodes).\n",
    "\n",
    "Dijkstra's algorithm requires a priority queue structure to stock the pairs (distance,vertices) for which we haven't computed a shortest path yet. To do so we found it easier to use python's library heapq which already provides a heap priority queue."
   ]
  },
  {
   "cell_type": "markdown",
   "metadata": {
    "id": "E81FVnPAt0Mm"
   },
   "source": [
    "$\\textbf{Classic Dijkstra's algortithm's :}$\n",
    "\n",
    "The parameters are :\n",
    "\n",
    "\n",
    "*   s : the source vertex\n",
    "*   t : the target vertex\n",
    "*   G : the graph\n",
    "*   distances : table with minimal distance to source\n",
    "*   visited : set of vertices already visited\n",
    "*   queue : priority heap (heapq) containing pairs (distances\n",
    "(x),x)\n",
    "*   neighbors : function giving the pairs (weigth, vertex) for all leaving edges\n",
    "*   previous : keep trak of the previous vertex to reconstruct the path\n",
    "\n",
    "\n",
    "\n",
    "$\\textbf{Input :}$ a directed connected graph $G=(V,A,c)$ with non-negative arc costs $c:A\\mapsto \\mathbb{R}_+$, a source $s$ and a target $t$.\n",
    "\n",
    "$\\textbf{Output :}$ A shortest path $s\\rightarrow t$ as well as its cost.\n",
    "\n",
    "\n"
   ]
  },
  {
   "cell_type": "code",
   "execution_count": 1,
   "metadata": {
    "id": "tyGKENh1r60i"
   },
   "outputs": [],
   "source": [
    "# libraries needed\n",
    "from heapq import *\n",
    "import numpy as np"
   ]
  },
  {
   "cell_type": "code",
   "execution_count": 25,
   "metadata": {
    "id": "kLsqpil6x58_"
   },
   "outputs": [],
   "source": [
    "def dijkstra (s, t, G):\n",
    "    \n",
    "    # initialization : the only vertex in the priority queue is s with distance 0 \n",
    "    # (the shortest since no negative arcs)\n",
    "    visited = set()\n",
    "    distances = {s: 0}\n",
    "    previous = {}\n",
    "    queue = [(0, s)]\n",
    "    \n",
    "    # Boolean to tell if we eventually found a path s-t (just a assert because G should be connected)\n",
    "    targetFound = False\n",
    "\n",
    "    # We look at the vertex with shortest distance (at top of the heap) while we have'nt visited all the nodes yet\n",
    "    while queue != []:\n",
    "        \n",
    "        # x : next element in the queue, hence the one with distance[w]+cost(w,x) minimal for all w in visited\n",
    "        dx, x = heappop(queue)\n",
    "        \n",
    "        # if x already visited, we don't go through the computations twice !\n",
    "        if x in visited:\n",
    "            continue\n",
    "\n",
    "        visited.add(x)\n",
    "        \n",
    "        # we look at each neighbor of x\n",
    "        for cost, y in neighbors(G,x):\n",
    "            \n",
    "            # if already done :\n",
    "            if y in visited:\n",
    "                continue\n",
    "            \n",
    "            # else : compute the distance s-y passing by x and compare it with the minimum distance we already had\n",
    "            dy = dx + cost\n",
    "            \n",
    "            if y not in distances or dy < distances[y]:\n",
    "                distances[y] = dy\n",
    "                \n",
    "                # put it back in the queue with distance updated\n",
    "                heappush(queue, (dy, y))\n",
    "                \n",
    "                # update the path\n",
    "                previous[y] = x\n",
    "                \n",
    "                # check if we found the target\n",
    "                if(y==t):\n",
    "                    targetFound = True\n",
    "\n",
    "    # then we reconstruct the path s-t (if we have one)               \n",
    "    path = [t]\n",
    "    x = t\n",
    "    if targetFound :\n",
    "        while x != s:\n",
    "            x = previous[x]\n",
    "            path.insert(0, x)\n",
    "        \n",
    "        # return the shortest path s-t and its cost\n",
    "        return distances[t], path\n",
    "    return f\"There were no path between {s} and {t} :(\"\n",
    "\n",
    "\n",
    "# Run for a graph given by a dictionnary (same thing as an adjacency matrix but take less space)\n",
    "G = {\n",
    "    \"A\": [ (27, \"D\"), (2, \"G\") ],\n",
    "    \"B\": [ (1, \"A\") ],\n",
    "    \"C\": [ (1, \"B\"), (2, \"F\"), (3, \"G\") ],\n",
    "    \"D\": [ (4, \"G\"), (7, \"H\") ],\n",
    "    \"E\": [ (5, \"A\"), (3, \"B\"), (2, \"C\") ],\n",
    "    \"F\": [ (8, \"H\"), (1, \"D\") ],\n",
    "    \"G\": [ (4, \"F\") ],\n",
    "    \"H\": []\n",
    "}\n",
    "\n",
    "def neighbors (G,s):\n",
    "    return G[s]"
   ]
  },
  {
   "cell_type": "code",
   "execution_count": 29,
   "metadata": {
    "colab": {
     "base_uri": "https://localhost:8080/"
    },
    "id": "bFYJCHln9Wlk",
    "outputId": "03e163c3-4797-4f03-9ec3-6830278d10cc"
   },
   "outputs": [
    {
     "name": "stdout",
     "output_type": "stream",
     "text": [
      "Shortest path between A and D :\n",
      "(7, ['A', 'G', 'F', 'D'])\n",
      "Shortest path between D and A :\n",
      "There were no path between D and A :(\n"
     ]
    }
   ],
   "source": [
    "# Tests for our small graph\n",
    "\n",
    "s=\"A\"\n",
    "t=\"D\"\n",
    "\n",
    "print(f\"Shortest path between {s} and {t} :\")\n",
    "print(dijkstra (s, t, G))\n",
    "\n",
    "print(f\"Shortest path between {t} and {s} :\")\n",
    "print(dijkstra (t, s, G))"
   ]
  },
  {
   "cell_type": "markdown",
   "metadata": {
    "id": "sLvlehJaFpps"
   },
   "source": [
    "$\\textbf{Parallel Dijkstra algorithm :}$\n",
    "\n",
    "The idea here is to split the graph in different subgraphes when looking at the neighbors.\n",
    "The code remains roughly the same except we add a parameter nbCores to determine the number of core working in parallel.\n",
    "\n",
    "To run the program on different cores we will use the python tool pool from library multiprocessing."
   ]
  },
  {
   "cell_type": "code",
   "execution_count": 4,
   "metadata": {
    "id": "En5NmHhEIbID"
   },
   "outputs": [],
   "source": [
    "from multiprocessing import pool"
   ]
  },
  {
   "cell_type": "code",
   "execution_count": 31,
   "metadata": {
    "id": "XvxEnDoAFv78"
   },
   "outputs": [],
   "source": [
    "# The function that will run on the different cores at the same time :\n",
    "# core is the number of the current core\n",
    "# num is the number of neighbors\n",
    "# start is the first neighbor for the core core \n",
    "def parallel_neighbors(t,start, num ,G,distances,p,queue,core):\n",
    "    for i in range(num):\n",
    "        weigth, y = neighbors(G,start+i)\n",
    "        if y in visited:\n",
    "            continue\n",
    "        dy = dx + weigth\n",
    "        if y not in distances or dy < distances[y]:\n",
    "            distances[y] = dy\n",
    "            heappush(queue, (dy, y))\n",
    "            previous[y] = x\n",
    "        if(y==t):\n",
    "            targetFound = True\n",
    "    start = start + num\n",
    "\n",
    "def parallelDijkstra (s, t, G):\n",
    "    visited = set()\n",
    "    distances = {s: 0}\n",
    "    previous = {}\n",
    "    queue = [(0, s)]\n",
    "    targetFound = False\n",
    "\n",
    "    while queue != []:\n",
    "\n",
    "        dx, x = heappop(queue)\n",
    "        if x in visited:\n",
    "            continue\n",
    "\n",
    "        visited.add(x)\n",
    "\n",
    "        n=len(neighbors(G,x))\n",
    "        k = n//(nbCores)\n",
    "        l = n%(nbCores)\n",
    "        start = 0\n",
    "        pool=pool.Pool()\n",
    "        result=[]\n",
    "        answer=[]\n",
    "        nbCores=os.cpu_count()\n",
    "        for core in range () :\n",
    "            if (core == nbCores) :\n",
    "                result.append(pool.apply_async(parallel_neighbors, [t, start, l,G,distances,p,queue,core]))\n",
    "            else:\n",
    "                result.append(pool.apply_async(parallel_neighbors, [t, start, k,G,distances,p,queue,core]))\n",
    "        pool.join()\n",
    "        for core in range (nbCores) :\n",
    "            answer[core] = result[core].get(timeout=10)\n",
    "    path = [t]\n",
    "    x = t\n",
    "    if targetFound :\n",
    "        while x != s:\n",
    "            x = previous[x]\n",
    "            path.insert(0, x)\n",
    "        return distances[t], path\n",
    "    return f\"There were no path between {s} and {t} :(\"\n",
    "\n",
    "\n",
    "# Run for a graph given by a dictionnary (same thing as an adjacency matrix but take less space)\n",
    "G = {\n",
    "    \"A\": [ (27, \"D\"), (2, \"G\") ],\n",
    "    \"B\": [ (1, \"A\") ],\n",
    "    \"C\": [ (1, \"B\"), (2, \"F\"), (3, \"G\") ],\n",
    "    \"D\": [ (4, \"G\"), (7, \"H\") ],\n",
    "    \"E\": [ (5, \"A\"), (3, \"B\"), (2, \"C\") ],\n",
    "    \"F\": [ (8, \"H\"), (1, \"D\") ],\n",
    "    \"G\": [ (4, \"F\") ],\n",
    "    \"H\": []\n",
    "}\n",
    "\n",
    "def neighbors (G,s):\n",
    "    return G[s]"
   ]
  },
  {
   "cell_type": "code",
   "execution_count": 32,
   "metadata": {
    "colab": {
     "base_uri": "https://localhost:8080/",
     "height": 317
    },
    "id": "Cq0aacUjy5F4",
    "outputId": "0da72bc7-7ddb-44a5-c247-fdf8b7a2bcd0"
   },
   "outputs": [
    {
     "ename": "TypeError",
     "evalue": "'function' object is not subscriptable",
     "output_type": "error",
     "traceback": [
      "\u001b[0;31m---------------------------------------------------------------------------\u001b[0m",
      "\u001b[0;31mTypeError\u001b[0m                                 Traceback (most recent call last)",
      "\u001b[0;32m<ipython-input-32-ea59c403f1d7>\u001b[0m in \u001b[0;36m<module>\u001b[0;34m()\u001b[0m\n\u001b[1;32m      2\u001b[0m \u001b[0mt\u001b[0m\u001b[0;34m=\u001b[0m\u001b[0;34m\"H\"\u001b[0m\u001b[0;34m\u001b[0m\u001b[0;34m\u001b[0m\u001b[0m\n\u001b[1;32m      3\u001b[0m \u001b[0;34m\u001b[0m\u001b[0m\n\u001b[0;32m----> 4\u001b[0;31m \u001b[0mprint\u001b[0m\u001b[0;34m(\u001b[0m\u001b[0mparallelDijkstra\u001b[0m \u001b[0;34m(\u001b[0m\u001b[0ms\u001b[0m\u001b[0;34m,\u001b[0m \u001b[0mt\u001b[0m\u001b[0;34m,\u001b[0m \u001b[0mneighbors\u001b[0m\u001b[0;34m)\u001b[0m\u001b[0;34m)\u001b[0m\u001b[0;34m\u001b[0m\u001b[0;34m\u001b[0m\u001b[0m\n\u001b[0m",
      "\u001b[0;32m<ipython-input-31-e69d5f40fd9f>\u001b[0m in \u001b[0;36mparallelDijkstra\u001b[0;34m(s, t, G)\u001b[0m\n\u001b[1;32m     32\u001b[0m         \u001b[0mvisited\u001b[0m\u001b[0;34m.\u001b[0m\u001b[0madd\u001b[0m\u001b[0;34m(\u001b[0m\u001b[0mx\u001b[0m\u001b[0;34m)\u001b[0m\u001b[0;34m\u001b[0m\u001b[0;34m\u001b[0m\u001b[0m\n\u001b[1;32m     33\u001b[0m \u001b[0;34m\u001b[0m\u001b[0m\n\u001b[0;32m---> 34\u001b[0;31m         \u001b[0mn\u001b[0m\u001b[0;34m=\u001b[0m\u001b[0mlen\u001b[0m\u001b[0;34m(\u001b[0m\u001b[0mneighbors\u001b[0m\u001b[0;34m(\u001b[0m\u001b[0mG\u001b[0m\u001b[0;34m,\u001b[0m\u001b[0mx\u001b[0m\u001b[0;34m)\u001b[0m\u001b[0;34m)\u001b[0m\u001b[0;34m\u001b[0m\u001b[0;34m\u001b[0m\u001b[0m\n\u001b[0m\u001b[1;32m     35\u001b[0m         \u001b[0mk\u001b[0m \u001b[0;34m=\u001b[0m \u001b[0mn\u001b[0m\u001b[0;34m//\u001b[0m\u001b[0;34m(\u001b[0m\u001b[0mnbCores\u001b[0m\u001b[0;34m)\u001b[0m\u001b[0;34m\u001b[0m\u001b[0;34m\u001b[0m\u001b[0m\n\u001b[1;32m     36\u001b[0m         \u001b[0ml\u001b[0m \u001b[0;34m=\u001b[0m \u001b[0mn\u001b[0m\u001b[0;34m%\u001b[0m\u001b[0;34m(\u001b[0m\u001b[0mnbCores\u001b[0m\u001b[0;34m)\u001b[0m\u001b[0;34m\u001b[0m\u001b[0;34m\u001b[0m\u001b[0m\n",
      "\u001b[0;32m<ipython-input-31-e69d5f40fd9f>\u001b[0m in \u001b[0;36mneighbors\u001b[0;34m(G, s)\u001b[0m\n\u001b[1;32m     71\u001b[0m \u001b[0;34m\u001b[0m\u001b[0m\n\u001b[1;32m     72\u001b[0m \u001b[0;32mdef\u001b[0m \u001b[0mneighbors\u001b[0m \u001b[0;34m(\u001b[0m\u001b[0mG\u001b[0m\u001b[0;34m,\u001b[0m\u001b[0ms\u001b[0m\u001b[0;34m)\u001b[0m\u001b[0;34m:\u001b[0m\u001b[0;34m\u001b[0m\u001b[0;34m\u001b[0m\u001b[0m\n\u001b[0;32m---> 73\u001b[0;31m     \u001b[0;32mreturn\u001b[0m \u001b[0mG\u001b[0m\u001b[0;34m[\u001b[0m\u001b[0ms\u001b[0m\u001b[0;34m]\u001b[0m\u001b[0;34m\u001b[0m\u001b[0;34m\u001b[0m\u001b[0m\n\u001b[0m",
      "\u001b[0;31mTypeError\u001b[0m: 'function' object is not subscriptable"
     ]
    }
   ],
   "source": [
    "s=\"A\"\n",
    "t=\"H\"\n",
    "\n",
    "print(parallelDijkstra (s, t, neighbors))"
   ]
  },
  {
   "cell_type": "markdown",
   "metadata": {
    "id": "uRqm0Ce2zv1_"
   },
   "source": [
    "2) $\\textbf{Shortest Path with constraints :}$"
   ]
  },
  {
   "cell_type": "markdown",
   "metadata": {
    "id": "3vDnCHgOz3xW"
   },
   "source": [
    "Description : \n",
    "This problem is known to be NP-hard"
   ]
  },
  {
   "cell_type": "markdown",
   "metadata": {
    "id": "iQrd87xS7taw"
   },
   "source": [
    "Implementation :"
   ]
  },
  {
   "cell_type": "code",
   "execution_count": null,
   "metadata": {
    "id": "bij6KeODz2s5"
   },
   "outputs": [],
   "source": []
  },
  {
   "cell_type": "markdown",
   "metadata": {
    "id": "Ab-kWpLZ7c14"
   },
   "source": [
    "3) $K$ $\\textbf{- Shortest Paths}$"
   ]
  },
  {
   "cell_type": "markdown",
   "metadata": {
    "id": "Nfg8MiAX7y5k"
   },
   "source": [
    "Description : We want the $K$-shortest paths connecting the source $s$ to the target $t$. The easiest is to keep these paths in an array $bestPaths$ where $bestPaths[i]$ will give the $i^{th}$ shortest path $s - t$.\n",
    "\n",
    "Since the weights are still said to be positive, we can use Dijkstra's algorithm to compute $bestPaths[0]$\n",
    "\n",
    "Then, $bestPaths[0:i-1]$ already there, our idea is to construct $bestPaths[i]$ form a \"deviation\" of $bestPaths[i-1]$, but we have to ensure some things :\n",
    "\n",
    "* When we compute our deviation, we should not look at paths already taken for a previous bestPath\n",
    "* We must look at all the other paths and find the best one (that is to say the one with minimal cost)\n",
    "\n",
    "\n",
    "To do so, we will proceed as so :\n",
    "\n",
    "Parameters :\n",
    "* s, t, G : source, target, directed connected graph\n",
    "* bestPaths : list of pairs (cost, i-th shorthest path) for i from 1 to K\n",
    "* tmpPaths : stock all the deviations of\n",
    "\n",
    "$\\textbf{Input :}$ a directed connected graph $G=(V,A,c)$ with non-negative arc costs $c:A\\mapsto \\mathbb{R}_+$, a source $s$ and a target $t$.\n",
    "\n",
    "$\\textbf{Output :}$ A shortest path $s\\rightarrow t$ as well as its cost.\n",
    "\n",
    "\n"
   ]
  },
  {
   "cell_type": "markdown",
   "metadata": {
    "id": "kaXzJvLp72NB"
   },
   "source": [
    "Implementation :"
   ]
  },
  {
   "cell_type": "code",
   "execution_count": 11,
   "metadata": {
    "id": "0Vma4UQ17xOe"
   },
   "outputs": [],
   "source": [
    "def k_paths(s,t,G,K) :\n",
    "    bestPaths=[]\n",
    "    bestPaths.append(dijkstra (s, t, G))\n",
    "    \n",
    "    for k in range(1,K) :\n",
    "        \n",
    "        tmpPaths=[]\n",
    "        \n",
    "        for i in range(len(bestPaths[k-1][1])-1) :\n",
    "            ## choose the pivot node\n",
    "            pivot = bestPaths[k-1][1][i]\n",
    "            pivotPath = bestPaths[k-1][0:i]\n",
    "            copyGraph = G.copy()\n",
    "            for j in range(k-1):\n",
    "                if bestPaths[j][0:i] == pivotPath :\n",
    "                    dest=bestPaths[j][1][i+1]\n",
    "                    \n",
    "                    for node in copyG[pivot]:\n",
    "                        if node[1] == dest :\n",
    "                            node[0]= np.inf\n",
    "                    ## possibilité de retour en arrière, on changera peut-être après\n",
    "            pivotEnd = dijkstra (pivot, t, copyG)\n",
    "            pivotFinal = [pivotPath[0]+pivotEnd[0],pivotPath[1][:-1]+pivotEnd[1]]\n",
    "            tmpPaths.append(pivotFinal)\n",
    "        bestPaths.append(bestPath(tmpPaths))\n",
    "    return bestPaths\n",
    "\n",
    "def bestPath(tmpPaths) :\n",
    "    idx = 0\n",
    "    min_ = tmpPaths[0][0]\n",
    "    for i in range(len(tmpPaths)):\n",
    "        if tmpPaths[i][0]<min_ :\n",
    "            idx = i\n",
    "            min_ = tmpPaths[i][0]\n",
    "    return tmpPaths[idx]\n",
    "    "
   ]
  },
  {
   "cell_type": "markdown",
   "metadata": {},
   "source": [
    "Proof of termination, correctness, .."
   ]
  },
  {
   "cell_type": "code",
   "execution_count": 33,
   "metadata": {},
   "outputs": [],
   "source": [
    "# Tests"
   ]
  }
 ],
 "metadata": {
  "colab": {
   "collapsed_sections": [],
   "name": "Projet_Info.ipynb",
   "provenance": []
  },
  "kernelspec": {
   "display_name": "Python 3",
   "language": "python",
   "name": "python3"
  },
  "language_info": {
   "codemirror_mode": {
    "name": "ipython",
    "version": 3
   },
   "file_extension": ".py",
   "mimetype": "text/x-python",
   "name": "python",
   "nbconvert_exporter": "python",
   "pygments_lexer": "ipython3",
   "version": "3.6.8"
  },
  "latex_envs": {
   "LaTeX_envs_menu_present": true,
   "autoclose": false,
   "autocomplete": false,
   "bibliofile": "biblio.bib",
   "cite_by": "apalike",
   "current_citInitial": 1,
   "eqLabelWithNumbers": true,
   "eqNumInitial": 1,
   "hotkeys": {
    "equation": "Ctrl-E",
    "itemize": "Ctrl-I"
   },
   "labels_anchors": false,
   "latex_user_defs": false,
   "report_style_numbering": false,
   "user_envs_cfg": false
  }
 },
 "nbformat": 4,
 "nbformat_minor": 1
}
